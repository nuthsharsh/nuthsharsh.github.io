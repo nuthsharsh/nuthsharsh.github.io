{
 "cells": [
  {
   "cell_type": "code",
   "execution_count": 1,
   "metadata": {},
   "outputs": [
    {
     "name": "stderr",
     "output_type": "stream",
     "text": [
      "Using TensorFlow backend.\n"
     ]
    }
   ],
   "source": [
    "from imutils.video import VideoStream\n",
    "import cv2\n",
    "import imutils\n",
    "import numpy as np\n",
    "import time\n",
    "from keras.models import Model, Sequential\n",
    "from keras.layers import Input, Convolution2D, ZeroPadding2D, MaxPooling2D, Flatten, Dense, Dropout, Activation\n",
    "from PIL import Image\n",
    "from keras.preprocessing.image import load_img, save_img, img_to_array\n",
    "from keras.applications.imagenet_utils import preprocess_input\n",
    "from keras.preprocessing import image\n",
    "import matplotlib.pyplot as plt\n",
    "from os import listdir\n",
    "from keras.preprocessing import image as ima\n",
    "import csv\n",
    "import pandas as pd"
   ]
  },
  {
   "cell_type": "code",
   "execution_count": 2,
   "metadata": {},
   "outputs": [],
   "source": [
    "def preprocess_image(image_path):\n",
    "    img = load_img(image_path, target_size=(224, 224))\n",
    "    img = img_to_array(img)\n",
    "    img = np.expand_dims(img, axis=0)\n",
    "    img = preprocess_input(img)\n",
    "    return img\n",
    "\n",
    "def loadVggFaceModel():\n",
    "    model = Sequential()\n",
    "    model.add(ZeroPadding2D((1,1),input_shape=(224,224, 3)))\n",
    "    model.add(Convolution2D(64, (3, 3), activation='relu'))\n",
    "    model.add(ZeroPadding2D((1,1)))\n",
    "    model.add(Convolution2D(64, (3, 3), activation='relu'))\n",
    "    model.add(MaxPooling2D((2,2), strides=(2,2)))\n",
    "\n",
    "    model.add(ZeroPadding2D((1,1)))\n",
    "    model.add(Convolution2D(128, (3, 3), activation='relu'))\n",
    "    model.add(ZeroPadding2D((1,1)))\n",
    "    model.add(Convolution2D(128, (3, 3), activation='relu'))\n",
    "    model.add(MaxPooling2D((2,2), strides=(2,2)))\n",
    "\n",
    "    model.add(ZeroPadding2D((1,1)))\n",
    "    model.add(Convolution2D(256, (3, 3), activation='relu'))\n",
    "    model.add(ZeroPadding2D((1,1)))\n",
    "    model.add(Convolution2D(256, (3, 3), activation='relu'))\n",
    "    model.add(ZeroPadding2D((1,1)))\n",
    "    model.add(Convolution2D(256, (3, 3), activation='relu'))\n",
    "    model.add(MaxPooling2D((2,2), strides=(2,2)))\n",
    "\n",
    "    model.add(ZeroPadding2D((1,1)))\n",
    "    model.add(Convolution2D(512, (3, 3), activation='relu'))\n",
    "    model.add(ZeroPadding2D((1,1)))\n",
    "    model.add(Convolution2D(512, (3, 3), activation='relu'))\n",
    "    model.add(ZeroPadding2D((1,1)))\n",
    "    model.add(Convolution2D(512, (3, 3), activation='relu'))\n",
    "    model.add(MaxPooling2D((2,2), strides=(2,2)))\n",
    "\n",
    "    model.add(ZeroPadding2D((1,1)))\n",
    "    model.add(Convolution2D(512, (3, 3), activation='relu'))\n",
    "    model.add(ZeroPadding2D((1,1)))\n",
    "    model.add(Convolution2D(512, (3, 3), activation='relu'))\n",
    "    model.add(ZeroPadding2D((1,1)))\n",
    "    model.add(Convolution2D(512, (3, 3), activation='relu'))\n",
    "    model.add(MaxPooling2D((2,2), strides=(2,2)))\n",
    "\n",
    "    model.add(Convolution2D(4096, (7, 7), activation='relu'))\n",
    "    model.add(Dropout(0.5))\n",
    "    model.add(Convolution2D(4096, (1, 1), activation='relu'))\n",
    "    model.add(Dropout(0.5))\n",
    "    model.add(Convolution2D(2622, (1, 1)))\n",
    "    model.add(Flatten())\n",
    "    model.add(Activation('softmax'))\n",
    "    model.load_weights('D:/python_AI/vgg_face_weights.h5')\n",
    "    vgg_face_descriptor = Model(inputs=model.layers[0].input, outputs=model.layers[-2].output)\n",
    "    return vgg_face_descriptor"
   ]
  },
  {
   "cell_type": "code",
   "execution_count": 3,
   "metadata": {},
   "outputs": [],
   "source": [
    "def employee_database(employee_pictures,model):\n",
    "    employees=dict()\n",
    "    for file in listdir(employee_pictures):\n",
    "        employee,extension=file.split(\".\")\n",
    "        employees[employee]=model.predict(preprocess_image('{}/{}.{}'.format(employee_pictures,employee,extension)))[0,:]\n",
    "    return employees"
   ]
  },
  {
   "cell_type": "code",
   "execution_count": 4,
   "metadata": {},
   "outputs": [],
   "source": [
    "def findCosineSimilarity(source_representation, test_representation):\n",
    "    a = np.matmul(np.transpose(source_representation), test_representation)\n",
    "    b = np.sum(np.multiply(source_representation, source_representation))\n",
    "    c = np.sum(np.multiply(test_representation, test_representation))\n",
    "    return 1 - (a / (np.sqrt(b) * np.sqrt(c)))"
   ]
  },
  {
   "cell_type": "code",
   "execution_count": 5,
   "metadata": {},
   "outputs": [],
   "source": [
    "vs = VideoStream(src=0).start()\n",
    "model=loadVggFaceModel()\n",
    "color = (0,255,0)\n",
    "faceNet = cv2.dnn.readNetFromCaffe('face-detector-deploy.prototxt', 'res10_300x300_ssd_iter_140000.caffemodel')\n",
    "employees=employee_database(\"D:/python_AI/face_test\",model)\n",
    "faceDetectionMeanPixelIntensityValues = (104.0, 177.0, 123.0)\n",
    "data = pd.read_csv(\"D:/python_AI/employee_database.csv\") \n",
    "while True:\n",
    "    frame = vs.read()\n",
    "    frame = imutils.resize(frame, width=1000)\n",
    "    (h, w) = frame.shape[:2]\n",
    "    image = cv2.resize(frame, (300, 300))\n",
    "    blob = cv2.dnn.blobFromImage(image, 1.0, (300, 300), faceDetectionMeanPixelIntensityValues)\n",
    "    faceNet.setInput(blob)\n",
    "    faceDetections = faceNet.forward()\n",
    "    for i in range(0, faceDetections.shape[2]):\n",
    "        faceDetectionConfidence = faceDetections[0, 0, i, 2]\n",
    "        if faceDetectionConfidence < 0.55:\n",
    "            continue\n",
    "        box = faceDetections[0, 0, i, 3:7] * np.array([w, h, w, h])\n",
    "        (startX, startY, endX, endY) = box.astype(\"int\")\n",
    "        face = frame[startY:endY, startX:endX]\n",
    "        x=startX\n",
    "        y=startY\n",
    "        if len(face) == 0 or len(face[0]) == 0:\n",
    "            continue\n",
    "        detected_face = cv2.resize(face, (224, 224))\n",
    "        img_pixels = ima.img_to_array(detected_face)\n",
    "        img_pixels = np.expand_dims(img_pixels, axis = 0)\n",
    "        img_pixels=preprocess_input(img_pixels)\n",
    "        #img_pixels /= 255\n",
    "        captured_representation = model.predict(img_pixels)[0,:]\n",
    "        found=0\n",
    "        #cv2.imshow('image',detected_face)\n",
    "        for i in employees:\n",
    "            employee_name = i\n",
    "            representation = employees[i]\n",
    "            similarity = findCosineSimilarity(representation, captured_representation)\n",
    "            #print(similarity)\n",
    "            if(similarity< 0.3):\n",
    "                cv2.putText(frame, employee_name, (startX-220, startY+20),cv2.FONT_HERSHEY_SIMPLEX, 1, color, 2)\n",
    "                boxColor = (0, 255, 255)\n",
    "                cv2.rectangle(frame, (startX, startY), (endX, endY), boxColor, 2)\n",
    "                if employee_name==data.Name.to_string(index=False):\n",
    "                    cv2.putText(frame, data.Employer.to_string(index=False), (startX-220, startY+50),cv2.FONT_HERSHEY_SIMPLEX, 1, color, 2)\n",
    "                    cv2.putText(frame, data.Location.to_string(index=False), (startX-220, startY+80),cv2.FONT_HERSHEY_SIMPLEX, 1, color, 2)\n",
    "                    cv2.putText(frame, data.State.to_string(index=False), (startX-220, startY+110),cv2.FONT_HERSHEY_SIMPLEX, 1, color, 2)\n",
    "                \n",
    "    if True:\n",
    "        cv2.imshow(\"Frame\", frame)\n",
    "        key = cv2.waitKey(1) & 0xFF\n",
    "        if key == ord(\"q\"):\n",
    "            break\n",
    "cv2.destroyAllWindows()\n",
    "vs.stop()\n",
    "exit()"
   ]
  },
  {
   "cell_type": "code",
   "execution_count": 11,
   "metadata": {},
   "outputs": [],
   "source": [
    "employees=employee_database(\"D:/python_AI/face_test\")"
   ]
  },
  {
   "cell_type": "code",
   "execution_count": 12,
   "metadata": {},
   "outputs": [
    {
     "data": {
      "text/plain": [
       "{'Sri Harsha N': array([ 1.2818015 , -0.63073003,  0.4664738 , ..., -2.3125584 ,\n",
       "         0.45995238,  1.9206898 ], dtype=float32)}"
      ]
     },
     "execution_count": 12,
     "metadata": {},
     "output_type": "execute_result"
    }
   ],
   "source": [
    "employees\n"
   ]
  },
  {
   "cell_type": "code",
   "execution_count": 1,
   "metadata": {},
   "outputs": [
    {
     "ename": "NameError",
     "evalue": "name 'representation' is not defined",
     "output_type": "error",
     "traceback": [
      "\u001b[1;31m---------------------------------------------------------------------------\u001b[0m",
      "\u001b[1;31mNameError\u001b[0m                                 Traceback (most recent call last)",
      "\u001b[1;32m<ipython-input-1-2ef787ee8660>\u001b[0m in \u001b[0;36m<module>\u001b[1;34m\u001b[0m\n\u001b[1;32m----> 1\u001b[1;33m \u001b[0mrepresentation\u001b[0m\u001b[1;33m\u001b[0m\u001b[0m\n\u001b[0m",
      "\u001b[1;31mNameError\u001b[0m: name 'representation' is not defined"
     ]
    }
   ],
   "source": [
    "representation"
   ]
  },
  {
   "cell_type": "code",
   "execution_count": 2,
   "metadata": {},
   "outputs": [
    {
     "ename": "NameError",
     "evalue": "name 'representation' is not defined",
     "output_type": "error",
     "traceback": [
      "\u001b[1;31m---------------------------------------------------------------------------\u001b[0m",
      "\u001b[1;31mNameError\u001b[0m                                 Traceback (most recent call last)",
      "\u001b[1;32m<ipython-input-2-b79de5e86ff0>\u001b[0m in \u001b[0;36m<module>\u001b[1;34m\u001b[0m\n\u001b[1;32m----> 1\u001b[1;33m \u001b[0mlen\u001b[0m\u001b[1;33m(\u001b[0m\u001b[0mrepresentation\u001b[0m\u001b[1;33m)\u001b[0m\u001b[1;33m\u001b[0m\u001b[0m\n\u001b[0m",
      "\u001b[1;31mNameError\u001b[0m: name 'representation' is not defined"
     ]
    }
   ],
   "source": [
    "len(representation)"
   ]
  },
  {
   "cell_type": "code",
   "execution_count": 1,
   "metadata": {},
   "outputs": [],
   "source": [
    "a=[1,2,3,4]"
   ]
  },
  {
   "cell_type": "code",
   "execution_count": 2,
   "metadata": {},
   "outputs": [
    {
     "data": {
      "text/plain": [
       "[2]"
      ]
     },
     "execution_count": 2,
     "metadata": {},
     "output_type": "execute_result"
    }
   ],
   "source": [
    "a[1:2]"
   ]
  },
  {
   "cell_type": "code",
   "execution_count": 3,
   "metadata": {},
   "outputs": [
    {
     "data": {
      "text/plain": [
       "[2, 3]"
      ]
     },
     "execution_count": 3,
     "metadata": {},
     "output_type": "execute_result"
    }
   ],
   "source": [
    "a[1:3]"
   ]
  },
  {
   "cell_type": "code",
   "execution_count": 4,
   "metadata": {},
   "outputs": [
    {
     "data": {
      "text/plain": [
       "[]"
      ]
     },
     "execution_count": 4,
     "metadata": {},
     "output_type": "execute_result"
    }
   ],
   "source": [
    "a[3:1]"
   ]
  },
  {
   "cell_type": "code",
   "execution_count": 6,
   "metadata": {},
   "outputs": [],
   "source": [
    "a=preprocess_image('D:/python_AI/face_test/Sri Harsha N.jpg')"
   ]
  },
  {
   "cell_type": "code",
   "execution_count": 7,
   "metadata": {},
   "outputs": [
    {
     "data": {
      "text/plain": [
       "array([[[[29.060997, 38.221   , 42.32    ],\n",
       "         [29.060997, 38.221   , 42.32    ],\n",
       "         [29.060997, 38.221   , 42.32    ],\n",
       "         ...,\n",
       "         [12.060997, 17.221   , 21.32    ],\n",
       "         [10.060997, 18.221   , 19.32    ],\n",
       "         [10.060997, 18.221   , 19.32    ]],\n",
       "\n",
       "        [[29.060997, 38.221   , 42.32    ],\n",
       "         [29.060997, 38.221   , 42.32    ],\n",
       "         [29.060997, 38.221   , 42.32    ],\n",
       "         ...,\n",
       "         [12.060997, 17.221   , 21.32    ],\n",
       "         [10.060997, 18.221   , 19.32    ],\n",
       "         [10.060997, 18.221   , 19.32    ]],\n",
       "\n",
       "        [[29.060997, 38.221   , 42.32    ],\n",
       "         [29.060997, 38.221   , 42.32    ],\n",
       "         [29.060997, 38.221   , 42.32    ],\n",
       "         ...,\n",
       "         [12.060997, 17.221   , 21.32    ],\n",
       "         [10.060997, 18.221   , 19.32    ],\n",
       "         [10.060997, 18.221   , 19.32    ]],\n",
       "\n",
       "        ...,\n",
       "\n",
       "        [[46.060997, 52.221   , 53.32    ],\n",
       "         [46.060997, 52.221   , 53.32    ],\n",
       "         [46.060997, 52.221   , 53.32    ],\n",
       "         ...,\n",
       "         [19.060997, 22.221   , 27.32    ],\n",
       "         [18.060997, 21.221   , 26.32    ],\n",
       "         [18.060997, 21.221   , 26.32    ]],\n",
       "\n",
       "        [[46.060997, 52.221   , 53.32    ],\n",
       "         [46.060997, 52.221   , 53.32    ],\n",
       "         [46.060997, 52.221   , 53.32    ],\n",
       "         ...,\n",
       "         [18.060997, 21.221   , 26.32    ],\n",
       "         [17.060997, 20.221   , 25.32    ],\n",
       "         [17.060997, 20.221   , 25.32    ]],\n",
       "\n",
       "        [[46.060997, 52.221   , 53.32    ],\n",
       "         [46.060997, 52.221   , 53.32    ],\n",
       "         [46.060997, 52.221   , 53.32    ],\n",
       "         ...,\n",
       "         [18.060997, 21.221   , 26.32    ],\n",
       "         [17.060997, 20.221   , 25.32    ],\n",
       "         [17.060997, 20.221   , 25.32    ]]]], dtype=float32)"
      ]
     },
     "execution_count": 7,
     "metadata": {},
     "output_type": "execute_result"
    }
   ],
   "source": [
    "a"
   ]
  },
  {
   "cell_type": "code",
   "execution_count": 9,
   "metadata": {},
   "outputs": [
    {
     "data": {
      "text/plain": [
       "150528"
      ]
     },
     "execution_count": 9,
     "metadata": {},
     "output_type": "execute_result"
    }
   ],
   "source": [
    "a.size"
   ]
  },
  {
   "cell_type": "code",
   "execution_count": 10,
   "metadata": {},
   "outputs": [
    {
     "data": {
      "text/plain": [
       "(1, 224, 224, 3)"
      ]
     },
     "execution_count": 10,
     "metadata": {},
     "output_type": "execute_result"
    }
   ],
   "source": [
    "a.shape"
   ]
  },
  {
   "cell_type": "code",
   "execution_count": 11,
   "metadata": {},
   "outputs": [
    {
     "data": {
      "text/plain": [
       "131.32"
      ]
     },
     "execution_count": 11,
     "metadata": {},
     "output_type": "execute_result"
    }
   ],
   "source": [
    "np.amax(a)"
   ]
  },
  {
   "cell_type": "code",
   "execution_count": 1,
   "metadata": {},
   "outputs": [],
   "source": [
    "import csv\n",
    "import pandas as pd"
   ]
  },
  {
   "cell_type": "code",
   "execution_count": 5,
   "metadata": {},
   "outputs": [],
   "source": [
    "employee_database=open(\"D:/python_AI/employee_database.csv\", \"r\")"
   ]
  },
  {
   "cell_type": "code",
   "execution_count": 16,
   "metadata": {},
   "outputs": [],
   "source": [
    "data = pd.read_csv(\"D:/python_AI/employee_database.csv\") "
   ]
  },
  {
   "cell_type": "code",
   "execution_count": 17,
   "metadata": {},
   "outputs": [
    {
     "data": {
      "text/html": [
       "<div>\n",
       "<style scoped>\n",
       "    .dataframe tbody tr th:only-of-type {\n",
       "        vertical-align: middle;\n",
       "    }\n",
       "\n",
       "    .dataframe tbody tr th {\n",
       "        vertical-align: top;\n",
       "    }\n",
       "\n",
       "    .dataframe thead th {\n",
       "        text-align: right;\n",
       "    }\n",
       "</style>\n",
       "<table border=\"1\" class=\"dataframe\">\n",
       "  <thead>\n",
       "    <tr style=\"text-align: right;\">\n",
       "      <th></th>\n",
       "      <th>Name</th>\n",
       "      <th>Employer</th>\n",
       "      <th>Location</th>\n",
       "      <th>State</th>\n",
       "      <th>LinkedIn</th>\n",
       "    </tr>\n",
       "  </thead>\n",
       "  <tbody>\n",
       "    <tr>\n",
       "      <th>0</th>\n",
       "      <td>Sri Harsha N</td>\n",
       "      <td>Sallie Mae</td>\n",
       "      <td>Newark</td>\n",
       "      <td>Delaware</td>\n",
       "      <td>https://www.linkedin.com/in/sri-harsha-n-7415b...</td>\n",
       "    </tr>\n",
       "  </tbody>\n",
       "</table>\n",
       "</div>"
      ],
      "text/plain": [
       "           Name    Employer Location     State  \\\n",
       "0  Sri Harsha N  Sallie Mae   Newark  Delaware   \n",
       "\n",
       "                                            LinkedIn  \n",
       "0  https://www.linkedin.com/in/sri-harsha-n-7415b...  "
      ]
     },
     "execution_count": 17,
     "metadata": {},
     "output_type": "execute_result"
    }
   ],
   "source": [
    "data"
   ]
  },
  {
   "cell_type": "code",
   "execution_count": 27,
   "metadata": {},
   "outputs": [
    {
     "name": "stdout",
     "output_type": "stream",
     "text": [
      "Name\n",
      "Sri Harsha N\n"
     ]
    }
   ],
   "source": [
    "print(data[['Name']].to_string(index=False))"
   ]
  },
  {
   "cell_type": "code",
   "execution_count": 33,
   "metadata": {},
   "outputs": [
    {
     "data": {
      "text/plain": [
       "True"
      ]
     },
     "execution_count": 33,
     "metadata": {},
     "output_type": "execute_result"
    }
   ],
   "source": [
    "'Sri Harsha N'==data.Name.to_string(index=False)"
   ]
  },
  {
   "cell_type": "code",
   "execution_count": null,
   "metadata": {},
   "outputs": [],
   "source": []
  }
 ],
 "metadata": {
  "kernelspec": {
   "display_name": "Python 3",
   "language": "python",
   "name": "python3"
  },
  "language_info": {
   "codemirror_mode": {
    "name": "ipython",
    "version": 3
   },
   "file_extension": ".py",
   "mimetype": "text/x-python",
   "name": "python",
   "nbconvert_exporter": "python",
   "pygments_lexer": "ipython3",
   "version": "3.6.8"
  }
 },
 "nbformat": 4,
 "nbformat_minor": 2
}
